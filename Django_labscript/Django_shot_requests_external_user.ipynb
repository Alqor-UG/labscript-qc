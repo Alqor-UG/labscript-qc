{
 "cells": [
  {
   "cell_type": "code",
   "execution_count": null,
   "metadata": {},
   "outputs": [],
   "source": [
    "import json\n",
    "import requests"
   ]
  },
  {
   "cell_type": "markdown",
   "metadata": {},
   "source": [
    "## Get config"
   ]
  },
  {
   "cell_type": "code",
   "execution_count": null,
   "metadata": {},
   "outputs": [],
   "source": [
    "username = ''\n",
    "password = ''"
   ]
  },
  {
   "cell_type": "code",
   "execution_count": null,
   "metadata": {},
   "outputs": [],
   "source": [
    "url=\"http://localhost:9000/shots/get_config/\"\n",
    "\n",
    "r = requests.get(url,params={'username': username,'password':password})\n",
    "\n",
    "print(r.text)\n",
    "#print(r.content)"
   ]
  },
  {
   "cell_type": "markdown",
   "metadata": {},
   "source": [
    "## Submit jobs"
   ]
  },
  {
   "cell_type": "code",
   "execution_count": null,
   "metadata": {},
   "outputs": [],
   "source": [
    "job_payload = {\n",
    "    'experiment_0': {\n",
    "        'instructions': [\n",
    "            ('rLx', [0], [0.7]),\n",
    "            ('measure', [0], []),\n",
    "            ('measure', [1], [])\n",
    "        ],\n",
    "        'num_wires': 2,\n",
    "        'shots': 3\n",
    "    },\n",
    "    'experiment_1': {\n",
    "        'instructions': [\n",
    "            ('rLx', [0], [0.7]),\n",
    "            ('measure', [0], []),\n",
    "            ('measure', [1], [])\n",
    "        ],\n",
    "        'num_wires': 2,\n",
    "        'shots': 3\n",
    "    },\n",
    " }"
   ]
  },
  {
   "cell_type": "code",
   "execution_count": null,
   "metadata": {},
   "outputs": [],
   "source": [
    "url=\"http://localhost:9000/shots/post_job/\"\n",
    "\n",
    "job_response = requests.post(url, data={'json':json.dumps(job_payload),'username': username,'password':password})\n",
    "\n",
    "print(job_response.text)"
   ]
  },
  {
   "cell_type": "code",
   "execution_count": null,
   "metadata": {},
   "outputs": [],
   "source": [
    "job_id = (job_response.json())['job_id']"
   ]
  },
  {
   "cell_type": "markdown",
   "metadata": {},
   "source": [
    "## Get job status"
   ]
  },
  {
   "cell_type": "code",
   "execution_count": null,
   "metadata": {
    "scrolled": true
   },
   "outputs": [],
   "source": [
    "status_payload = {'job_id': job_id}\n",
    "url=\"http://localhost:9000/shots/get_job_status/\"\n",
    "\n",
    "status_response = requests.get(url, params={'json':json.dumps(status_payload),'username': username,'password':password})\n",
    "\n",
    "print(status_response.text)"
   ]
  },
  {
   "cell_type": "markdown",
   "metadata": {},
   "source": [
    "## Get job results"
   ]
  },
  {
   "cell_type": "code",
   "execution_count": null,
   "metadata": {
    "scrolled": true
   },
   "outputs": [],
   "source": [
    "result_payload = {'job_id': job_id}\n",
    "url=\"http://localhost:9000/shots/get_job_result/\"\n",
    "\n",
    "result_response = requests.get(url, params={'json':json.dumps(result_payload),'username': username,'password':password})\n",
    "\n",
    "print(result_response.text)"
   ]
  },
  {
   "cell_type": "markdown",
   "metadata": {},
   "source": [
    "## Change password"
   ]
  },
  {
   "cell_type": "code",
   "execution_count": null,
   "metadata": {},
   "outputs": [],
   "source": [
    "url=\"http://localhost:9000/shots/change_password/\"\n",
    "\n",
    "#job_response = requests.post(url, data={'username': username,'password':password,'new_password':'blah'})\n",
    "\n",
    "print(job_response.text)"
   ]
  },
  {
   "cell_type": "code",
   "execution_count": null,
   "metadata": {},
   "outputs": [],
   "source": []
  }
 ],
 "metadata": {
  "kernelspec": {
   "display_name": "Python 3",
   "language": "python",
   "name": "python3"
  },
  "language_info": {
   "codemirror_mode": {
    "name": "ipython",
    "version": 3
   },
   "file_extension": ".py",
   "mimetype": "text/x-python",
   "name": "python",
   "nbconvert_exporter": "python",
   "pygments_lexer": "ipython3",
   "version": "3.8.5"
  }
 },
 "nbformat": 4,
 "nbformat_minor": 4
}
