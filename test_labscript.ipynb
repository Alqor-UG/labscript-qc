{
 "cells": [
  {
   "cell_type": "code",
   "execution_count": null,
   "metadata": {},
   "outputs": [],
   "source": []
  },
  {
   "cell_type": "code",
   "execution_count": 1,
   "metadata": {},
   "outputs": [],
   "source": [
    "import runmanager.remote\n"
   ]
  },
  {
   "cell_type": "code",
   "execution_count": 4,
   "metadata": {},
   "outputs": [],
   "source": [
    "globals_dict = {\n",
    "        \"job_id\": \"guest\",\n",
    "        \"shots\": 4,\n",
    "    }\n",
    "\n",
    "\n",
    "remoteClient = runmanager.remote.Client()"
   ]
  },
  {
   "cell_type": "code",
   "execution_count": 5,
   "metadata": {},
   "outputs": [
    {
     "ename": "TimeoutError",
     "evalue": "Could not connect to server: timed out",
     "output_type": "error",
     "traceback": [
      "\u001b[0;31m---------------------------------------------------------------------------\u001b[0m",
      "\u001b[0;31mTimeoutError\u001b[0m                              Traceback (most recent call last)",
      "Cell \u001b[0;32mIn[5], line 1\u001b[0m\n\u001b[0;32m----> 1\u001b[0m remoteClient\u001b[39m.\u001b[39;49mset_globals(globals_dict)\n",
      "File \u001b[0;32m~/miniconda3/envs/labscript-qc/lib/python3.11/site-packages/runmanager/remote.py:50\u001b[0m, in \u001b[0;36mClient.set_globals\u001b[0;34m(self, globals, raw)\u001b[0m\n\u001b[1;32m     44\u001b[0m \u001b[39mdef\u001b[39;00m \u001b[39mset_globals\u001b[39m(\u001b[39mself\u001b[39m, \u001b[39mglobals\u001b[39m, raw\u001b[39m=\u001b[39m\u001b[39mFalse\u001b[39;00m):\n\u001b[1;32m     45\u001b[0m \u001b[39m    \u001b[39m\u001b[39m\"\"\"For a dict of the form {'<global_name>': value}, set the given globals to the\u001b[39;00m\n\u001b[1;32m     46\u001b[0m \u001b[39m    given values. If raw=True, then global values will be treated as the string\u001b[39;00m\n\u001b[1;32m     47\u001b[0m \u001b[39m    representations of Python objects rather than the objects themselves, and\u001b[39;00m\n\u001b[1;32m     48\u001b[0m \u001b[39m    written directly to the HDF5 file and runmanager GUI without calling repr() on\u001b[39;00m\n\u001b[1;32m     49\u001b[0m \u001b[39m    them first.\"\"\"\u001b[39;00m\n\u001b[0;32m---> 50\u001b[0m     \u001b[39mreturn\u001b[39;00m \u001b[39mself\u001b[39;49m\u001b[39m.\u001b[39;49mrequest(\u001b[39m'\u001b[39;49m\u001b[39mset_globals\u001b[39;49m\u001b[39m'\u001b[39;49m, \u001b[39mglobals\u001b[39;49m, raw\u001b[39m=\u001b[39;49mraw)\n",
      "File \u001b[0;32m~/miniconda3/envs/labscript-qc/lib/python3.11/site-packages/runmanager/remote.py:25\u001b[0m, in \u001b[0;36mClient.request\u001b[0;34m(self, command, *args, **kwargs)\u001b[0m\n\u001b[1;32m     24\u001b[0m \u001b[39mdef\u001b[39;00m \u001b[39mrequest\u001b[39m(\u001b[39mself\u001b[39m, command, \u001b[39m*\u001b[39margs, \u001b[39m*\u001b[39m\u001b[39m*\u001b[39mkwargs):\n\u001b[0;32m---> 25\u001b[0m     \u001b[39mreturn\u001b[39;00m \u001b[39mself\u001b[39;49m\u001b[39m.\u001b[39;49mget(\n\u001b[1;32m     26\u001b[0m         \u001b[39mself\u001b[39;49m\u001b[39m.\u001b[39;49mport, \u001b[39mself\u001b[39;49m\u001b[39m.\u001b[39;49mhost, data\u001b[39m=\u001b[39;49m[command, args, kwargs], timeout\u001b[39m=\u001b[39;49m\u001b[39mself\u001b[39;49m\u001b[39m.\u001b[39;49mtimeout\n\u001b[1;32m     27\u001b[0m     )\n",
      "File \u001b[0;32m~/miniconda3/envs/labscript-qc/lib/python3.11/site-packages/zprocess/clientserver.py:380\u001b[0m, in \u001b[0;36m_Sender.__call__\u001b[0;34m(self, port, host, data, timeout, interruptor, raise_server_exceptions)\u001b[0m\n\u001b[1;32m    372\u001b[0m \u001b[39m# We cache the socket so as to not exhaust ourselves of tcp\u001b[39;00m\n\u001b[1;32m    373\u001b[0m \u001b[39m# ports. However if a different server is in use, we need a new\u001b[39;00m\n\u001b[1;32m    374\u001b[0m \u001b[39m# socket. Also if we don't have a socket, we also need a new one:\u001b[39;00m\n\u001b[1;32m    375\u001b[0m \u001b[39mif\u001b[39;00m (\n\u001b[1;32m    376\u001b[0m     \u001b[39mnot\u001b[39;00m \u001b[39mhasattr\u001b[39m(\u001b[39mself\u001b[39m\u001b[39m.\u001b[39mlocal, \u001b[39m'\u001b[39m\u001b[39msock\u001b[39m\u001b[39m'\u001b[39m)\n\u001b[1;32m    377\u001b[0m     \u001b[39mor\u001b[39;00m gethostbyname(host) \u001b[39m!=\u001b[39m \u001b[39mself\u001b[39m\u001b[39m.\u001b[39mlocal\u001b[39m.\u001b[39mhost\n\u001b[1;32m    378\u001b[0m     \u001b[39mor\u001b[39;00m \u001b[39mint\u001b[39m(port) \u001b[39m!=\u001b[39m \u001b[39mself\u001b[39m\u001b[39m.\u001b[39mlocal\u001b[39m.\u001b[39mport\n\u001b[1;32m    379\u001b[0m ):\n\u001b[0;32m--> 380\u001b[0m     \u001b[39mself\u001b[39;49m\u001b[39m.\u001b[39;49mnew_socket(host, port, timeout, interruptor\u001b[39m=\u001b[39;49minterruptor)\n\u001b[1;32m    381\u001b[0m data \u001b[39m=\u001b[39m _typecheck_or_convert_data(data, \u001b[39mself\u001b[39m\u001b[39m.\u001b[39mdtype)\n\u001b[1;32m    382\u001b[0m \u001b[39mif\u001b[39;00m timeout \u001b[39mis\u001b[39;00m \u001b[39mnot\u001b[39;00m \u001b[39mNone\u001b[39;00m:\n",
      "File \u001b[0;32m~/miniconda3/envs/labscript-qc/lib/python3.11/site-packages/zprocess/clientserver.py:327\u001b[0m, in \u001b[0;36m_Sender.new_socket\u001b[0;34m(self, host, port, timeout, interruptor)\u001b[0m\n\u001b[1;32m    324\u001b[0m \u001b[39mtry\u001b[39;00m:\n\u001b[1;32m    325\u001b[0m     \u001b[39m# Allow up to 1 second to send unsent messages on socket shutdown:\u001b[39;00m\n\u001b[1;32m    326\u001b[0m     \u001b[39mself\u001b[39m\u001b[39m.\u001b[39mlocal\u001b[39m.\u001b[39msock\u001b[39m.\u001b[39msetsockopt(zmq\u001b[39m.\u001b[39mLINGER, \u001b[39m1000\u001b[39m)\n\u001b[0;32m--> 327\u001b[0m     \u001b[39mself\u001b[39;49m\u001b[39m.\u001b[39;49mlocal\u001b[39m.\u001b[39;49msock\u001b[39m.\u001b[39;49mconnect(\n\u001b[1;32m    328\u001b[0m         \u001b[39m'\u001b[39;49m\u001b[39mtcp://\u001b[39;49m\u001b[39m%s\u001b[39;49;00m\u001b[39m:\u001b[39;49m\u001b[39m%d\u001b[39;49;00m\u001b[39m'\u001b[39;49m \u001b[39m%\u001b[39;49m (\u001b[39mself\u001b[39;49m\u001b[39m.\u001b[39;49mlocal\u001b[39m.\u001b[39;49mhost, \u001b[39mself\u001b[39;49m\u001b[39m.\u001b[39;49mlocal\u001b[39m.\u001b[39;49mport),\n\u001b[1;32m    329\u001b[0m         timeout\u001b[39m=\u001b[39;49mtimeout,\n\u001b[1;32m    330\u001b[0m         interruptor\u001b[39m=\u001b[39;49minterruptor,\n\u001b[1;32m    331\u001b[0m     )\n\u001b[1;32m    332\u001b[0m     \u001b[39m# Different send/recv methods depending on the desired protocol:\u001b[39;00m\n\u001b[1;32m    333\u001b[0m     \u001b[39mif\u001b[39;00m \u001b[39mself\u001b[39m\u001b[39m.\u001b[39mdtype \u001b[39m==\u001b[39m \u001b[39m'\u001b[39m\u001b[39mraw\u001b[39m\u001b[39m'\u001b[39m:\n",
      "File \u001b[0;32m~/miniconda3/envs/labscript-qc/lib/python3.11/site-packages/zprocess/security.py:256\u001b[0m, in \u001b[0;36mSecureSocket.connect\u001b[0;34m(self, addr, timeout, interruptor)\u001b[0m\n\u001b[1;32m    254\u001b[0m events \u001b[39m=\u001b[39m \u001b[39mdict\u001b[39m(poller\u001b[39m.\u001b[39mpoll(remaining))\n\u001b[1;32m    255\u001b[0m \u001b[39mif\u001b[39;00m \u001b[39mnot\u001b[39;00m events:\n\u001b[0;32m--> 256\u001b[0m     \u001b[39mraise\u001b[39;00m \u001b[39mTimeoutError\u001b[39;00m(\u001b[39m'\u001b[39m\u001b[39mCould not connect to server: timed out\u001b[39m\u001b[39m'\u001b[39m)\n\u001b[1;32m    257\u001b[0m \u001b[39mif\u001b[39;00m interruptor \u001b[39mis\u001b[39;00m \u001b[39mnot\u001b[39;00m \u001b[39mNone\u001b[39;00m \u001b[39mand\u001b[39;00m interruption_sock \u001b[39min\u001b[39;00m events:\n\u001b[1;32m    258\u001b[0m     \u001b[39mraise\u001b[39;00m Interrupted(interruption_sock\u001b[39m.\u001b[39mrecv()\u001b[39m.\u001b[39mdecode(\u001b[39m'\u001b[39m\u001b[39mutf8\u001b[39m\u001b[39m'\u001b[39m))\n",
      "\u001b[0;31mTimeoutError\u001b[0m: Could not connect to server: timed out"
     ]
    }
   ],
   "source": [
    "remoteClient.set_globals(globals_dict)"
   ]
  },
  {
   "cell_type": "code",
   "execution_count": null,
   "metadata": {},
   "outputs": [],
   "source": [
    "# zmq Start"
   ]
  },
  {
   "cell_type": "code",
   "execution_count": 1,
   "metadata": {},
   "outputs": [
    {
     "name": "stdout",
     "output_type": "stream",
     "text": [
      "Server started and listening on tcp://127.0.0.1:5555\n"
     ]
    },
    {
     "ename": "KeyboardInterrupt",
     "evalue": "",
     "output_type": "error",
     "traceback": [
      "\u001b[0;31m---------------------------------------------------------------------------\u001b[0m",
      "\u001b[0;31mKeyboardInterrupt\u001b[0m                         Traceback (most recent call last)",
      "Cell \u001b[0;32mIn[1], line 13\u001b[0m\n\u001b[1;32m      9\u001b[0m \u001b[39mprint\u001b[39m(\u001b[39m\"\u001b[39m\u001b[39mServer started and listening on tcp://127.0.0.1:5555\u001b[39m\u001b[39m\"\u001b[39m)\n\u001b[1;32m     11\u001b[0m \u001b[39mwhile\u001b[39;00m \u001b[39mTrue\u001b[39;00m:\n\u001b[1;32m     12\u001b[0m     \u001b[39m# Receive the identity of the client (REQ socket)\u001b[39;00m\n\u001b[0;32m---> 13\u001b[0m     identity, message \u001b[39m=\u001b[39m router_socket\u001b[39m.\u001b[39;49mrecv_multipart()\n\u001b[1;32m     15\u001b[0m     \u001b[39m# Print the identity and message received\u001b[39;00m\n\u001b[1;32m     16\u001b[0m     \u001b[39mprint\u001b[39m(\u001b[39mf\u001b[39m\u001b[39m\"\u001b[39m\u001b[39mReceived message from \u001b[39m\u001b[39m{\u001b[39;00midentity\u001b[39m.\u001b[39mdecode(\u001b[39m'\u001b[39m\u001b[39mutf-8\u001b[39m\u001b[39m'\u001b[39m)\u001b[39m}\u001b[39;00m\u001b[39m: \u001b[39m\u001b[39m{\u001b[39;00mmessage\u001b[39m.\u001b[39mdecode(\u001b[39m'\u001b[39m\u001b[39mutf-8\u001b[39m\u001b[39m'\u001b[39m)\u001b[39m}\u001b[39;00m\u001b[39m\"\u001b[39m)\n",
      "File \u001b[0;32m~/miniconda3/envs/labscript-qc/lib/python3.11/site-packages/zmq/sugar/socket.py:805\u001b[0m, in \u001b[0;36mSocket.recv_multipart\u001b[0;34m(self, flags, copy, track)\u001b[0m\n\u001b[1;32m    777\u001b[0m \u001b[39mdef\u001b[39;00m \u001b[39mrecv_multipart\u001b[39m(\n\u001b[1;32m    778\u001b[0m     \u001b[39mself\u001b[39m, flags: \u001b[39mint\u001b[39m \u001b[39m=\u001b[39m \u001b[39m0\u001b[39m, copy: \u001b[39mbool\u001b[39m \u001b[39m=\u001b[39m \u001b[39mTrue\u001b[39;00m, track: \u001b[39mbool\u001b[39m \u001b[39m=\u001b[39m \u001b[39mFalse\u001b[39;00m\n\u001b[1;32m    779\u001b[0m ) \u001b[39m-\u001b[39m\u001b[39m>\u001b[39m Union[List[zmq\u001b[39m.\u001b[39mFrame], List[\u001b[39mbytes\u001b[39m]]:\n\u001b[1;32m    780\u001b[0m \u001b[39m    \u001b[39m\u001b[39m\"\"\"Receive a multipart message as a list of bytes or Frame objects\u001b[39;00m\n\u001b[1;32m    781\u001b[0m \n\u001b[1;32m    782\u001b[0m \u001b[39m    Parameters\u001b[39;00m\n\u001b[0;32m   (...)\u001b[0m\n\u001b[1;32m    803\u001b[0m \u001b[39m        for any of the reasons :func:`~Socket.recv` might fail\u001b[39;00m\n\u001b[1;32m    804\u001b[0m \u001b[39m    \"\"\"\u001b[39;00m\n\u001b[0;32m--> 805\u001b[0m     parts \u001b[39m=\u001b[39m [\u001b[39mself\u001b[39;49m\u001b[39m.\u001b[39;49mrecv(flags, copy\u001b[39m=\u001b[39;49mcopy, track\u001b[39m=\u001b[39;49mtrack)]\n\u001b[1;32m    806\u001b[0m     \u001b[39m# have first part already, only loop while more to receive\u001b[39;00m\n\u001b[1;32m    807\u001b[0m     \u001b[39mwhile\u001b[39;00m \u001b[39mself\u001b[39m\u001b[39m.\u001b[39mgetsockopt(zmq\u001b[39m.\u001b[39mRCVMORE):\n",
      "File \u001b[0;32mzmq/backend/cython/socket.pyx:805\u001b[0m, in \u001b[0;36mzmq.backend.cython.socket.Socket.recv\u001b[0;34m()\u001b[0m\n",
      "File \u001b[0;32mzmq/backend/cython/socket.pyx:841\u001b[0m, in \u001b[0;36mzmq.backend.cython.socket.Socket.recv\u001b[0;34m()\u001b[0m\n",
      "File \u001b[0;32mzmq/backend/cython/socket.pyx:194\u001b[0m, in \u001b[0;36mzmq.backend.cython.socket._recv_copy\u001b[0;34m()\u001b[0m\n",
      "File \u001b[0;32m~/miniconda3/envs/labscript-qc/lib/python3.11/site-packages/zmq/backend/cython/checkrc.pxd:13\u001b[0m, in \u001b[0;36mzmq.backend.cython.checkrc._check_rc\u001b[0;34m()\u001b[0m\n",
      "\u001b[0;31mKeyboardInterrupt\u001b[0m: "
     ]
    }
   ],
   "source": [
    "import zmq\n",
    "\n",
    "context = zmq.Context()\n",
    "\n",
    "# Create a ROUTER socket\n",
    "router_socket = context.socket(zmq.ROUTER)\n",
    "router_socket.bind(\"tcp://127.0.0.1:7339\")  # Replace with your desired address\n",
    "\n",
    "print(\"Server started and listening on tcp://127.0.0.1:7339\")\n",
    "\n",
    "while True:\n",
    "    # Receive the identity of the client (REQ socket)\n",
    "    identity, message = router_socket.recv_multipart()\n",
    "\n",
    "    # Print the identity and message received\n",
    "    print(f\"Received message from {identity.decode('utf-8')}: {message.decode('utf-8')}\")\n",
    "\n",
    "    # Send a response back to the client\n",
    "    router_socket.send_multipart([identity, b\"Server response\"])\n",
    "\n",
    "# Clean up when done\n",
    "router_socket.close()\n",
    "context.term()"
   ]
  }
 ],
 "metadata": {
  "kernelspec": {
   "display_name": "labscript-qc",
   "language": "python",
   "name": "python3"
  },
  "language_info": {
   "codemirror_mode": {
    "name": "ipython",
    "version": 3
   },
   "file_extension": ".py",
   "mimetype": "text/x-python",
   "name": "python",
   "nbconvert_exporter": "python",
   "pygments_lexer": "ipython3",
   "version": "3.11.4"
  },
  "orig_nbformat": 4
 },
 "nbformat": 4,
 "nbformat_minor": 2
}
